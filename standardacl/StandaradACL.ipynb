{
 "cells": [
  {
   "cell_type": "code",
   "execution_count": 6,
   "id": "dec1ae90-bc0d-4863-807f-30d2776e4616",
   "metadata": {},
   "outputs": [
    {
     "name": "stdout",
     "output_type": "stream",
     "text": [
      "Packet from 10.10.10.5 deny\n",
      "Packet from 10.10.5.1 permit\n",
      "Packet from 192.168.1.100 denied\n"
     ]
    }
   ],
   "source": [
    "def load_standard_acl(file_path):\n",
    "    \"\"\"Reads the ACL rules from a file and stores them in a dictionary.\"\"\"\n",
    "    acl_rules = []\n",
    "    with open(file_path, 'r') as file:\n",
    "        for line in file:\n",
    "            parts = line.strip().split()\n",
    "            if parts[0] == \"access-list\":\n",
    "                rule = {\n",
    "                    \"id\": parts[1],\n",
    "                    \"action\": parts[2],  \n",
    "                    \"source_ip\": parts[3],  \n",
    "                    \"wildcard_mask\": parts[4]  \n",
    "                }\n",
    "                acl_rules.append(rule)\n",
    "    return acl_rules\n",
    "\n",
    "def process_standard_acl(acl_rules, packet_file):\n",
    "    \"\"\"Processes incoming packets and decides whether to permit or deny them.\"\"\"\n",
    "    with open(packet_file, 'r') as file:\n",
    "        for line in file:\n",
    "            src_ip = line.strip()\n",
    "            action = \"denied\"  \n",
    "            for rule in acl_rules:\n",
    "                if matches_standard_acl(src_ip, rule):\n",
    "                    action = rule[\"action\"]\n",
    "                    break\n",
    "            print(f\"Packet from {src_ip} {action}\")\n",
    "\n",
    "def matches_standard_acl(ip, rule):\n",
    "    \"\"\"Checks if an IP matches an ACL rule based on wildcard masking.\"\"\"\n",
    "    import ipaddress\n",
    "    ip_net = ipaddress.IPv4Network(f\"{rule['source_ip']}/{rule['wildcard_mask']}\", strict=False)\n",
    "    return ipaddress.IPv4Address(ip) in ip_net\n",
    "\n",
    "\n",
    "acl_file = \"standard_acl2.txt\"\n",
    "packet_file = \"standard_packets2.txt\"\n",
    "\n",
    "\n",
    "acl_rules = load_standard_acl(acl_file)\n",
    "process_standard_acl(acl_rules, packet_file)\n"
   ]
  },
  {
   "cell_type": "code",
   "execution_count": null,
   "id": "a91b0758-8b4b-4140-8f27-8efba3bb01cb",
   "metadata": {},
   "outputs": [],
   "source": []
  },
  {
   "cell_type": "code",
   "execution_count": null,
   "id": "074b287b-0009-474c-99e0-5f6be929a26f",
   "metadata": {},
   "outputs": [],
   "source": []
  }
 ],
 "metadata": {
  "kernelspec": {
   "display_name": "Python 3 (ipykernel)",
   "language": "python",
   "name": "python3"
  },
  "language_info": {
   "codemirror_mode": {
    "name": "ipython",
    "version": 3
   },
   "file_extension": ".py",
   "mimetype": "text/x-python",
   "name": "python",
   "nbconvert_exporter": "python",
   "pygments_lexer": "ipython3",
   "version": "3.12.7"
  }
 },
 "nbformat": 4,
 "nbformat_minor": 5
}

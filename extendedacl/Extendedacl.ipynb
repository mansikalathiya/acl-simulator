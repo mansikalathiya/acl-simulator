{
 "cells": [
  {
   "cell_type": "code",
   "execution_count": null,
   "id": "dec1ae90-bc0d-4863-807f-30d2776e4616",
   "metadata": {},
   "outputs": [
    {
     "name": "stdout",
     "output_type": "stream",
     "text": [
      "Packet from 10.10.1.20 to 10.10.5.5 on port 53 deny\n",
      "Packet from 10.10.2.50 to 10.10.5.100 on port 22 permit\n",
      "Packet from 10.10.3.100 to 10.10.6.5 on port 53 permit\n",
      "Packet from 192.168.1.1 to 10.10.5.5 on port 80 denied\n",
      "Packet from 10.10.4.10 to 10.10.5.50 on port 443 permit\n"
     ]
    }
   ],
   "source": [
    "def load_extended_acl(file_path):\n",
    "    \"\"\"Reads extended ACL rules from a file.\"\"\"\n",
    "    acl_rules = []\n",
    "    with open(file_path, 'r') as file:\n",
    "        for line in file:\n",
    "            parts = line.strip().split()\n",
    "            if parts[0] == \"access-list\":\n",
    "                rule = {\n",
    "                    \"id\": parts[1],\n",
    "                    \"action\": parts[2],  \n",
    "                    \"protocol\": parts[3],  \n",
    "                    \"source_ip\": parts[4],\n",
    "                    \"source_mask\": parts[5],\n",
    "                    \"dest_ip\": parts[6],\n",
    "                    \"dest_mask\": parts[7],\n",
    "                    \"port\": parts[8] if len(parts) > 8 else None\n",
    "                }\n",
    "                acl_rules.append(rule)\n",
    "    return acl_rules\n",
    "\n",
    "def process_extended_acl(acl_rules, packet_file):\n",
    "    \"\"\"Processes incoming packets for extended ACL.\"\"\"\n",
    "    with open(packet_file, 'r') as file:\n",
    "        for line in file:\n",
    "            parts = line.strip().split()\n",
    "            src_ip, dest_ip, port = parts[0], parts[1], parts[2]\n",
    "            action = \"denied\"\n",
    "            for rule in acl_rules:\n",
    "                if matches_extended_acl(src_ip, dest_ip, port, rule):\n",
    "                    action = rule[\"action\"]\n",
    "                    break\n",
    "            print(f\"Packet from {src_ip} to {dest_ip} on port {port} {action}\")\n",
    "\n",
    "def matches_extended_acl(src_ip, dest_ip, port, rule):\n",
    "    \"\"\"Checks if an IP and port match an ACL rule.\"\"\"\n",
    "    import ipaddress\n",
    "    src_net = ipaddress.IPv4Network(f\"{rule['source_ip']}/{rule['source_mask']}\", strict=False)\n",
    "    dest_net = ipaddress.IPv4Network(f\"{rule['dest_ip']}/{rule['dest_mask']}\", strict=False)\n",
    "    if ipaddress.IPv4Address(src_ip) in src_net and ipaddress.IPv4Address(dest_ip) in dest_net:\n",
    "        if rule[\"port\"] is None or rule[\"port\"] == port:\n",
    "            return True\n",
    "    return False\n",
    "\n",
    "\n",
    "acl_file = \"extended_acl2.txt\"\n",
    "packet_file = \"extended_packets2.txt\"\n",
    "\n",
    "\n",
    "acl_rules = load_extended_acl(acl_file)\n",
    "process_extended_acl(acl_rules, packet_file)\n"
   ]
  },
  {
   "cell_type": "code",
   "execution_count": null,
   "id": "a91b0758-8b4b-4140-8f27-8efba3bb01cb",
   "metadata": {},
   "outputs": [],
   "source": []
  },
  {
   "cell_type": "code",
   "execution_count": null,
   "id": "074b287b-0009-474c-99e0-5f6be929a26f",
   "metadata": {},
   "outputs": [],
   "source": []
  }
 ],
 "metadata": {
  "kernelspec": {
   "display_name": "Python 3 (ipykernel)",
   "language": "python",
   "name": "python3"
  },
  "language_info": {
   "codemirror_mode": {
    "name": "ipython",
    "version": 3
   },
   "file_extension": ".py",
   "mimetype": "text/x-python",
   "name": "python",
   "nbconvert_exporter": "python",
   "pygments_lexer": "ipython3",
   "version": "3.12.7"
  }
 },
 "nbformat": 4,
 "nbformat_minor": 5
}
